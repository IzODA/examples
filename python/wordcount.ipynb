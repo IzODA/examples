{
 "cells": [
  {
   "cell_type": "markdown",
   "metadata": {
    "collapsed": false,
    "deletable": true,
    "editable": true
   },
   "source": [
    "### Wordcount the complete works of William Shakespeare\n",
    "This is a common example application that is often done using Spark.  It's converted here to illustrate how to do things with Python and Pandas.\n",
    "\n",
    "The text file used by this example comes from Project Gutenberg (https://www.gutenberg.org/files/100/100-0.txt).  This file is not included with this code, but it can be downloaded and prepared as follows:\n",
    "- Remove all leading text before the _The Sonnets_, including the table of contents.\n",
    "- Insert a line at the beginning with the contents _text_ (no quotes).  This is what the Pandas dataframe will use as the column label.\n",
    "- Remove all trailing text after _FINIS_.\n",
    "\n",
    "I re-named the resulting file _shakespeare_complete.txt_, and put it in a sibling directory called data.  If you alter the input file name or location, be sure to update the path passed to csv_read.\n",
    "\n",
    "Note that since this is a simple demo application, I haven't taken the time to fully prep the data.  There is a lot of additional cleaning required if you want to get a truly accurate count of all the words in Shakespeare's works.  This mostly consists of removing annotations and character names that are part of the format of the works."
   ]
  },
  {
   "cell_type": "code",
   "execution_count": null,
   "metadata": {
    "collapsed": false,
    "deletable": true,
    "editable": true
   },
   "outputs": [],
   "source": [
    "import pandas as pd\n",
    "import numpy as np\n",
    "from pandas import read_csv\n",
    "from collections import Counter\n",
    "import matplotlib.pyplot as plt\n",
    "import pprint as pp"
   ]
  },
  {
   "cell_type": "markdown",
   "metadata": {},
   "source": [
    "### Read in the text from a csv file, eliminating all blank lines."
   ]
  },
  {
   "cell_type": "code",
   "execution_count": null,
   "metadata": {
    "collapsed": false,
    "deletable": true,
    "editable": true
   },
   "outputs": [],
   "source": [
    "df = pd.read_csv('../data/shakespeare_complete.txt', header=None, engine='c', names=['text'], sep='\\n')\n",
    "print('There are approximately', df.shape[0], 'lines in the complete works of Shakespeare.')\n",
    "df"
   ]
  },
  {
   "cell_type": "markdown",
   "metadata": {},
   "source": [
    "### Use the dataframe to parse the words of each line, and group words using a counter."
   ]
  },
  {
   "cell_type": "code",
   "execution_count": null,
   "metadata": {
    "collapsed": false,
    "deletable": true,
    "editable": true
   },
   "outputs": [],
   "source": [
    "%%time\n",
    "word_c = Counter(' '.join(df['text']).split()).most_common()"
   ]
  },
  {
   "cell_type": "markdown",
   "metadata": {},
   "source": [
    "### Show some simple statistics about the distribution of words in the text."
   ]
  },
  {
   "cell_type": "code",
   "execution_count": null,
   "metadata": {
    "collapsed": false,
    "deletable": true,
    "editable": true
   },
   "outputs": [],
   "source": [
    "print('There are', len(word_c), 'unique words in the text.')\n",
    "print('The top 10 most common words:')\n",
    "pp.pprint(word_c[0:10])\n",
    "\n",
    "word_d = dict(word_c)\n",
    "print('\\nThou appears', word_d['thou'], 'time in the text, and thee', word_d['thee'], 'times.')\n",
    "print('There are', word_d['Hamlet'], 'occurances of the name Hamlet.')"
   ]
  },
  {
   "cell_type": "markdown",
   "metadata": {},
   "source": [
    "### Plot a histogram of the top 10 most frequent words in the text"
   ]
  },
  {
   "cell_type": "code",
   "execution_count": null,
   "metadata": {
    "collapsed": false,
    "deletable": true,
    "editable": true
   },
   "outputs": [],
   "source": [
    "# word_c is a list of word/count tuples.  Create word and counts lists for plotting.\n",
    "words  = [w[0] for w in word_c[0:10]]\n",
    "counts = [int(c[1]) for c in word_c[0:10]]\n",
    "\n",
    "y_pos = np.arange(len(counts))\n",
    "plt.bar(y_pos, counts, align='center', alpha=0.5)\n",
    "plt.xticks(y_pos, words)\n",
    "plt.ylabel('Counts')\n",
    "plt.xlabel('Words')\n",
    "plt.title('Word Counts, Complete Works of Shakespeare')\n",
    "plt.show()"
   ]
  }
 ],
 "metadata": {
  "kernelspec": {
   "display_name": "Python 3",
   "language": "python",
   "name": "python3"
  },
  "language_info": {
   "codemirror_mode": {
    "name": "ipython",
    "version": 3
   },
   "file_extension": ".py",
   "mimetype": "text/x-python",
   "name": "python",
   "nbconvert_exporter": "python",
   "pygments_lexer": "ipython3",
   "version": "3.6.1"
  }
 },
 "nbformat": 4,
 "nbformat_minor": 2
}
