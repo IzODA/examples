{
 "cells": [
  {
   "cell_type": "markdown",
   "metadata": {},
   "source": [
    "# Transactions 2003-2016\n",
    "This notebook will explore transactional data between 2003 and 2016.  This data has been distilled down to show the expenses and revenue on a per vendor (using the term vendor loosely, because payroll is being included in vendor).  The data has been loaded onto a mainframe as physical sequential files and will be processed using a jupyter notebook running on the same LPAR.\n",
    "\n",
    "## Import a few popular python packages and dsdbc"
   ]
  },
  {
   "cell_type": "code",
   "execution_count": null,
   "metadata": {},
   "outputs": [],
   "source": [
    "import pandas as pd\n",
    "import numpy as np\n",
    "from scipy import stats, integrate\n",
    "import matplotlib.pyplot as plt\n",
    "import seaborn as sns\n",
    "sns.set(color_codes=True)\n",
    "\n",
    "#Remove font warnings\n",
    "import warnings\n",
    "warnings.filterwarnings(\"ignore\")\n",
    "warnings.simplefilter(\"ignore\", category=PendingDeprecationWarning)"
   ]
  },
  {
   "cell_type": "markdown",
   "metadata": {},
   "source": [
    "***Note: dsdbc is a the python driver for the Optimized Data Virtualization Layer of the IBM Open Data Analytics on z product.***"
   ]
  },
  {
   "cell_type": "code",
   "execution_count": null,
   "metadata": {},
   "outputs": [],
   "source": [
    "# To use dsdbc, if you have the necessary files virtualized into ODL, simply comment out the next line\n",
    "csv = \"yes\"\n",
    "\n",
    "if not csv:\n",
    "    import dsdbc #This package required to interface with ODL\n",
    "    conn = dsdbc.connect()\n",
    "    cursor = conn.cursor()"
   ]
  },
  {
   "cell_type": "markdown",
   "metadata": {},
   "source": [
    "# Load the Transaction Data\n",
    "Load the expense transactions and the revenue transactions from physical sequential files into Panda Dataframes"
   ]
  },
  {
   "cell_type": "code",
   "execution_count": null,
   "metadata": {},
   "outputs": [],
   "source": [
    "#Create pandas dataframe directly from \"DB\" query (really a pysical sequential dataset)\n",
    "if csv:\n",
    "    exp_df = pd.read_csv(\"data/VI_03_16_EXP_VIEW2.csv\")\n",
    "    rev_df = pd.read_csv(\"data/VI_03_16_REV_VIEW2.csv\")\n",
    "else:\n",
    "    exp_df = pd.read_sql(\"SELECT * FROM VI_03_16_EXP_VIEW2\", conn)\n",
    "    rev_df = pd.read_sql(\"SELECT * FROM VI_03_16_REV_VIEW2\", conn)"
   ]
  },
  {
   "cell_type": "code",
   "execution_count": null,
   "metadata": {},
   "outputs": [],
   "source": [
    "exp_df"
   ]
  },
  {
   "cell_type": "markdown",
   "metadata": {},
   "source": [
    "## Compare Yearly Expenses and Revenue\n",
    "Calculate the yearly totals of expenses and Revenue, then see what they net."
   ]
  },
  {
   "cell_type": "code",
   "execution_count": null,
   "metadata": {},
   "outputs": [],
   "source": [
    "trans_dict = {\n",
    "    2003: [],\n",
    "    2004: [],\n",
    "    2005: [],\n",
    "    2006: [],\n",
    "    2007: [],\n",
    "    2008: [],\n",
    "    2009: [],\n",
    "    2010: [],\n",
    "    2011: [],\n",
    "    2012: [],\n",
    "    2013: [],\n",
    "    2014: [],    \n",
    "    2015: [],\n",
    "    2016: [],\n",
    "}\n",
    "trans_list = []\n",
    "years_df = pd.DataFrame()\n",
    "for year in trans_dict:\n",
    "    trans_list = [str(year),\\\n",
    "                  exp_df['Y' + str(year)].astype(float).sum(),\\\n",
    "                  rev_df['Y' + str(year)].astype(float).sum(),\\\n",
    "                  (rev_df['Y' + str(year)].astype(float).sum() - exp_df['Y' + str(year)].astype(float).sum())\n",
    "                 ]\n",
    "    if (years_df.empty):\n",
    "        years_df = pd.DataFrame([trans_list], columns=[\"YEAR\", 'EXP', 'REV', 'NET'])\n",
    "    else:\n",
    "        years_df = years_df.append(pd.DataFrame([trans_list], columns=[\"YEAR\", 'EXP', 'REV', 'NET']),ignore_index=True) \n",
    "years_df "
   ]
  },
  {
   "cell_type": "markdown",
   "metadata": {},
   "source": [
    "### Graph the yearly results"
   ]
  },
  {
   "cell_type": "code",
   "execution_count": null,
   "metadata": {},
   "outputs": [],
   "source": [
    "sns.barplot(x=\"YEAR\", y=\"EXP\", data=years_df)\n",
    "sns.plt.show()"
   ]
  },
  {
   "cell_type": "code",
   "execution_count": null,
   "metadata": {},
   "outputs": [],
   "source": [
    "sns.barplot(x=\"YEAR\", y=\"REV\", data=years_df)\n",
    "sns.plt.show()"
   ]
  },
  {
   "cell_type": "code",
   "execution_count": null,
   "metadata": {},
   "outputs": [],
   "source": [
    "sns.barplot(x=\"YEAR\", y=\"NET\", data=years_df)\n",
    "sns.plt.show()"
   ]
  },
  {
   "cell_type": "markdown",
   "metadata": {},
   "source": [
    "## Vendor's Per Year\n",
    "\n",
    "### Load the Vendor Data\n",
    "The vendor data is in a physical sequential file and is being loaded using dsbdc"
   ]
  },
  {
   "cell_type": "code",
   "execution_count": null,
   "metadata": {},
   "outputs": [],
   "source": [
    "#Create pandas dataframe directly from \"DB\" query (really a pysical sequential dataset)\n",
    "if csv:\n",
    "    vendor_df = pd.read_csv(\"data/SAFR_VEND_L-1.csv\")\n",
    "    vendor_df2 = pd.read_csv(\"data/SAFR_VEND_L-2.csv\")\n",
    "    vendor_df = vendor_df.append(vendor_df2)\n",
    "    vendor_df3 = pd.read_csv(\"data/SAFR_VEND_L-3.csv\")\n",
    "    vendor_df =vendor_df.append(vendor_df3)  \n",
    "else:\n",
    "    vendor_df = pd.read_sql(\"SELECT VVR_INST_ID, VVR_HOLDER_NAME FROM SAFR_VEND_L\", conn)\n",
    "vendor_df['VVR_INST_ID'] = vendor_df['VVR_INST_ID'].astype(\"int64\")\n",
    "vendor_df"
   ]
  },
  {
   "cell_type": "markdown",
   "metadata": {},
   "source": [
    "Merge the Vendor to the transactional dataframes"
   ]
  },
  {
   "cell_type": "code",
   "execution_count": null,
   "metadata": {},
   "outputs": [],
   "source": [
    "exp_df = exp_df.merge(vendor_df, right_on=\"VVR_INST_ID\", left_on=\"INST_ID\", how=\"left\")\n",
    "rev_df = rev_df.merge(vendor_df, right_on=\"VVR_INST_ID\", left_on=\"INST_ID\", how=\"left\")\n",
    "exp_df"
   ]
  },
  {
   "cell_type": "markdown",
   "metadata": {},
   "source": [
    "Calculate yearly total per vendor (both expense and revenue)"
   ]
  },
  {
   "cell_type": "code",
   "execution_count": null,
   "metadata": {},
   "outputs": [],
   "source": [
    "exp_df[\"Total\"] = exp_df[\"Y2003\"] + exp_df[\"Y2004\"] + exp_df[\"Y2005\"] + exp_df[\"Y2006\"] + exp_df[\"Y2007\"] + \\\n",
    "exp_df[\"Y2008\"] + exp_df[\"Y2009\"] + exp_df[\"Y2010\"] + exp_df[\"Y2011\"] + exp_df[\"Y2012\"] + exp_df[\"Y2013\"] + \\\n",
    "exp_df[\"Y2014\"] + exp_df[\"Y2015\"] + exp_df[\"Y2016\"]\n",
    "rev_df[\"Total\"] = rev_df[\"Y2003\"] + rev_df[\"Y2004\"] + rev_df[\"Y2005\"] + rev_df[\"Y2006\"] + rev_df[\"Y2007\"] + \\\n",
    "rev_df[\"Y2008\"] + rev_df[\"Y2009\"] + rev_df[\"Y2010\"] + rev_df[\"Y2011\"] + rev_df[\"Y2012\"] + rev_df[\"Y2013\"] + \\\n",
    "rev_df[\"Y2014\"] + rev_df[\"Y2015\"] + rev_df[\"Y2016\"]"
   ]
  },
  {
   "cell_type": "markdown",
   "metadata": {},
   "source": [
    "Calculate the averages per year, per vendor (both expense and revenue)"
   ]
  },
  {
   "cell_type": "code",
   "execution_count": null,
   "metadata": {},
   "outputs": [],
   "source": [
    "num_of_years = (2016 - 2003) + 1\n",
    "exp_df[\"Average\"] = exp_df[\"Total\"].astype(float) / num_of_years\n",
    "rev_df[\"Average\"] = rev_df[\"Total\"].astype(float) / num_of_years"
   ]
  },
  {
   "cell_type": "markdown",
   "metadata": {},
   "source": [
    "## Top 20% of Vendors\n",
    "What percentages of the overal transactions are these Vendors responisble for"
   ]
  },
  {
   "cell_type": "code",
   "execution_count": null,
   "metadata": {},
   "outputs": [],
   "source": [
    "# Calculate absolute value of all expense transactions\n",
    "pos_exp_df = exp_df.loc[exp_df['Total'] > 0]\n",
    "neg_exp_df = exp_df.loc[exp_df['Total'] < 0]\n",
    "neg_exp_df['Total'] = neg_exp_df['Total'] * -1\n",
    "pos_total_exp = pos_exp_df['Total'].astype(float).sum()\n",
    "neg_total_exp = neg_exp_df['Total'].astype(float).sum()\n",
    "grand_total_exp = pos_total_exp + neg_total_exp\n",
    "print(\"${:,.2f}\".format(grand_total_exp))"
   ]
  },
  {
   "cell_type": "code",
   "execution_count": null,
   "metadata": {},
   "outputs": [],
   "source": [
    "# Calculate absolute value of all revenue transactions\n",
    "pos_rev_df = rev_df.loc[rev_df['Total'] > 0]\n",
    "neg_rev_df = rev_df.loc[rev_df['Total'] < 0]\n",
    "neg_rev_df['Total'] = neg_rev_df['Total'] * -1\n",
    "pos_total_rev = pos_rev_df['Total'].astype(float).sum()\n",
    "neg_total_rev = neg_rev_df['Total'].astype(float).sum()\n",
    "grand_total_rev = pos_total_rev + neg_total_rev\n",
    "print(\"${:,.2f}\".format(grand_total_rev))"
   ]
  },
  {
   "cell_type": "code",
   "execution_count": null,
   "metadata": {},
   "outputs": [],
   "source": [
    "# Top 20% of vendors\n",
    "top_20_percent_exp_df = exp_df.nlargest(round(len(exp_df.index)*.2), 'Total')\n",
    "top_20_total_exp = top_20_percent_exp_df['Total'].astype(float).sum()\n",
    "print(\"${:,.2f}\".format(top_20_total_exp))"
   ]
  },
  {
   "cell_type": "code",
   "execution_count": null,
   "metadata": {},
   "outputs": [],
   "source": [
    "# Top 20% of vendors\n",
    "top_20_percent_rev_df = rev_df.nlargest(round(len(rev_df.index)*.2), 'Total')\n",
    "top_20_total_rev = top_20_percent_rev_df['Total'].astype(float).sum()\n",
    "print(\"${:,.2f}\".format(top_20_total_rev))"
   ]
  },
  {
   "cell_type": "code",
   "execution_count": null,
   "metadata": {},
   "outputs": [],
   "source": [
    "complete_df = exp_df[['INST_ID','Total']].append(rev_df[['INST_ID','Total']])\n",
    "top_20_df = complete_df.nlargest(round(len(complete_df.index)*.2), 'Total')\n",
    "top_20_total = top_20_percent_rev_df['Total'].astype(float).sum()\n",
    "print(\"${:,.2f}\".format(top_20_total))"
   ]
  },
  {
   "cell_type": "code",
   "execution_count": null,
   "metadata": {},
   "outputs": [],
   "source": [
    "grand_total = grand_total_exp + grand_total_rev\n",
    "print(\"${:,.2f}\".format(grand_total))"
   ]
  },
  {
   "cell_type": "markdown",
   "metadata": {},
   "source": [
    "***What is the actual percentage?***"
   ]
  },
  {
   "cell_type": "code",
   "execution_count": null,
   "metadata": {},
   "outputs": [],
   "source": [
    "print (\"{0:.0f}%\".format(top_20_total / grand_total * 100))"
   ]
  },
  {
   "cell_type": "code",
   "execution_count": null,
   "metadata": {},
   "outputs": [],
   "source": [
    "fracs = [100-(top_20_total / grand_total * 100), (top_20_total / grand_total * 100)]\n",
    "labels = [\"Total\", \"Top 20%\"]\n",
    "plt.pie(fracs, explode=(0,0.2), labels=labels, autopct='%1.1f%%', shadow=True)\n",
    "plt.show()"
   ]
  },
  {
   "cell_type": "markdown",
   "metadata": {},
   "source": [
    "## Top 5 Expense Vendors"
   ]
  },
  {
   "cell_type": "code",
   "execution_count": null,
   "metadata": {},
   "outputs": [],
   "source": [
    "# Top 5 vendors\n",
    "top_5_vendor_exp_df = exp_df.nlargest(5, 'Total')\n",
    "ids = top_5_vendor_exp_df['INST_ID']\n",
    "top_5_vendor_exp_df"
   ]
  },
  {
   "cell_type": "code",
   "execution_count": null,
   "metadata": {
    "scrolled": true
   },
   "outputs": [],
   "source": [
    "a4_dims = (5, 3)\n",
    "fig, ax = plt.subplots(figsize=a4_dims)\n",
    "ax.set_xticklabels(ax.get_xticklabels(),rotation=90)\n",
    "sns.barplot(x=\"VVR_HOLDER_NAME\", y=\"Total\", data=top_5_vendor_exp_df)\n",
    "sns.plt.show()"
   ]
  },
  {
   "cell_type": "code",
   "execution_count": null,
   "metadata": {},
   "outputs": [],
   "source": [
    "a4_dims = (15, 5)\n",
    "fig, ax = plt.subplots(figsize=a4_dims)\n",
    "ax.set_xticklabels(ax.get_xticklabels(),rotation=90)\n",
    "\n",
    "for key in ids:\n",
    "    df = top_5_vendor_exp_df[top_5_vendor_exp_df[\"VVR_INST_ID\"] == key]\n",
    "    vendor_name = df['VVR_HOLDER_NAME']\n",
    "    df = df.squeeze().to_frame()\n",
    "    df = df.drop(['RECNUM', 'INST_ID', 'VVR_INST_ID', 'VVR_HOLDER_NAME', 'Total', 'Average'])\n",
    "    df = df.reset_index()\n",
    "    df.columns = ['Year', 'Total']\n",
    "    df['Year'] = df['Year'].str[1:]\n",
    "    plt.plot(df)\n",
    "    \n",
    "plt.xlabel('Year', fontsize=14, color='red')\n",
    "plt.ylabel('Total', fontsize=14, color='red')\n",
    "sns.plt.show()"
   ]
  },
  {
   "cell_type": "code",
   "execution_count": null,
   "metadata": {},
   "outputs": [],
   "source": [
    "for key in ids:\n",
    "    df = top_5_vendor_exp_df[top_5_vendor_exp_df[\"VVR_INST_ID\"] == key]\n",
    "    vendor_name = df['VVR_HOLDER_NAME']\n",
    "    df = df.squeeze().to_frame()\n",
    "    df = df.drop(['RECNUM', 'INST_ID', 'VVR_INST_ID', 'VVR_HOLDER_NAME', 'Total', 'Average'])\n",
    "    df = df.reset_index()\n",
    "    df.columns = ['Year', 'Total']\n",
    "    df['Year'] = df['Year'].str[1:]\n",
    "    sns.barplot(x=\"Year\", y=\"Total\", data=df)\n",
    "    print(vendor_name)\n",
    "    sns.plt.show()"
   ]
  },
  {
   "cell_type": "markdown",
   "metadata": {},
   "source": [
    "## Top 5 Revenue Vendors"
   ]
  },
  {
   "cell_type": "code",
   "execution_count": null,
   "metadata": {},
   "outputs": [],
   "source": [
    "# Top 5 vendors\n",
    "top_5_vendor_rev_df = rev_df.nlargest(5, 'Total')\n",
    "ids = top_5_vendor_rev_df['INST_ID']\n",
    "top_5_vendor_rev_df"
   ]
  },
  {
   "cell_type": "code",
   "execution_count": null,
   "metadata": {},
   "outputs": [],
   "source": [
    "a4_dims = (5, 3)\n",
    "fig, ax = plt.subplots(figsize=a4_dims)\n",
    "ax.set_xticklabels(ax.get_xticklabels(),rotation=90)\n",
    "sns.barplot(x=\"VVR_HOLDER_NAME\", y=\"Total\", data=top_5_vendor_rev_df)\n",
    "sns.plt.show()"
   ]
  },
  {
   "cell_type": "code",
   "execution_count": null,
   "metadata": {},
   "outputs": [],
   "source": [
    "a4_dims = (15, 5)\n",
    "fig, ax = plt.subplots(figsize=a4_dims)\n",
    "ax.set_xticklabels(ax.get_xticklabels(),rotation=90)\n",
    "\n",
    "for key in ids:\n",
    "    df = top_5_vendor_rev_df[top_5_vendor_rev_df[\"VVR_INST_ID\"] == key]\n",
    "    vendor_name = df['VVR_HOLDER_NAME']\n",
    "    df = df.squeeze().to_frame()\n",
    "    df = df.drop(['RECNUM', 'INST_ID', 'VVR_INST_ID', 'VVR_HOLDER_NAME', 'Total', 'Average'])\n",
    "    df = df.reset_index()\n",
    "    df.columns = ['Year', 'Total']\n",
    "    df['Year'] = df['Year'].str[1:]\n",
    "    plt.plot(df)\n",
    "    \n",
    "plt.xlabel('Year', fontsize=14, color='red')\n",
    "plt.ylabel('Total', fontsize=14, color='red')\n",
    "sns.plt.show()"
   ]
  },
  {
   "cell_type": "code",
   "execution_count": null,
   "metadata": {},
   "outputs": [],
   "source": [
    "for key in ids:\n",
    "    df = top_5_vendor_rev_df[top_5_vendor_rev_df[\"VVR_INST_ID\"] == key]\n",
    "    vendor_name = df['VVR_HOLDER_NAME']\n",
    "    df = df.squeeze().to_frame()\n",
    "    df = df.drop(['RECNUM', 'INST_ID', 'VVR_INST_ID', 'VVR_HOLDER_NAME', 'Total', 'Average'])\n",
    "    df = df.reset_index()\n",
    "    df.columns = ['Year', 'Total']\n",
    "    df['Year'] = df['Year'].str[1:]\n",
    "    sns.barplot(x=\"Year\", y=\"Total\", data=df)\n",
    "    print(vendor_name)\n",
    "    sns.plt.show()"
   ]
  },
  {
   "cell_type": "code",
   "execution_count": null,
   "metadata": {},
   "outputs": [],
   "source": []
  }
 ],
 "metadata": {
  "kernelspec": {
   "display_name": "Python 3",
   "language": "python",
   "name": "python3"
  },
  "language_info": {
   "codemirror_mode": {
    "name": "ipython",
    "version": 3
   },
   "file_extension": ".py",
   "mimetype": "text/x-python",
   "name": "python",
   "nbconvert_exporter": "python",
   "pygments_lexer": "ipython3",
   "version": "3.5.2"
  }
 },
 "nbformat": 4,
 "nbformat_minor": 2
}
