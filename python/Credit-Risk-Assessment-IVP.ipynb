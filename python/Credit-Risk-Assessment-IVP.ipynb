{
 "cells": [
  {
   "cell_type": "markdown",
   "metadata": {},
   "source": [
    "# Credit Risk Assessment\n",
    "\n",
    "A credit risk is the risk of default on a debt that may arise from a borrower failing to make required payments. Someone who defaults on their loans can mean a lot of money lost for a financial institution and at the same time, false negatives (i.e. declining a loan when they are capable of repaying the money) can mean money lost from interest. In the following, we perform some exploratory analysis using the German Credit Data stored in the UCI Machine Learning Repository [here](https://archive.ics.uci.edu/ml/datasets/Statlog+(German+Credit+Data)"
   ]
  },
  {
   "cell_type": "markdown",
   "metadata": {},
   "source": [
    "## Retrieve Data Source from ODL"
   ]
  },
  {
   "cell_type": "markdown",
   "metadata": {},
   "source": [
    "The dsdbc module is delivered with the z/OS IzODA Anaconda distribution. It enables Python applications to access the z/OS IzODA Mainframe Data Service. The Data Service component, Optimized Data Layer (ODL, previously known as MDS) provides optimized, virtualized, and parallelized access to both IBM Z data sources and other off-platform data sources. Refer to the [IBM Knowledge Center](https://www.ibm.com/support/knowledgecenter/) for product documentation (search: \"Open Data Analytics\"). After the connection is established, we will use this connection to retrieve the data and store it in a dataframe using the python library, [pandas](http://pandas.pydata.org/)."
   ]
  },
  {
   "cell_type": "code",
   "execution_count": null,
   "metadata": {
    "collapsed": true
   },
   "outputs": [],
   "source": [
    "import dsdbc\n",
    "import pandas as pd\n",
    "\n",
    "#Remove font warnings.\n",
    "import warnings\n",
    "warnings.filterwarnings(\"ignore\")\n",
    "warnings.simplefilter(\"ignore\", category=PendingDeprecationWarning)\n",
    "\n",
    "#Get ODL database connection. For ssid, please enter in the subsystem ID of\n",
    "#the local data service server. If this is not specified, the name will be\n",
    "#selected based on the server group, 'sgrp', or if not provided, the first\n",
    "#subsystem with a Data Service will be used. For more information please\n",
    "#run help(dsdbc)\n",
    "ssid = \"<SUBSYSTEM_ID_OF_LOCAL_DATA_SERVICE_SERVER>\"\n",
    "conn = dsdbc.connect(SSID=ssid)\n",
    "\n",
    "#Query Execution\n",
    "\n",
    "sql = ('(select checkingAccount as \"checkingAccount\",'\n",
    "       'duration as \"duration\",'\n",
    "       'creditHistory as \"creditHistory\",'\n",
    "       'purpose as \"purpose\",'\n",
    "       'amount as \"amount\",'\n",
    "       'savingsAccount as \"savingsAccount\",'\n",
    "       'employed as \"employed\",'\n",
    "       'installmentRate as \"installmentRate\",'\n",
    "       'gender as \"gender\",'\n",
    "       'otherDebtors as \"otherDebtors\",'\n",
    "       'residentYears as \"residentYears\",'\n",
    "       'property as \"property\",'\n",
    "       'age as \"age\",'\n",
    "       'installmentPlans as \"installmentPlans\",'\n",
    "       'housing as \"housing\",'\n",
    "       'existingCredits as \"existingCredits\",'\n",
    "       'job as \"job\",'\n",
    "       'dependents as \"dependents\",'\n",
    "       'telephone as \"telephone\",'\n",
    "       'foreign as \"foreign\",'\n",
    "       'risk as \"risk\" from credit_data)')\n",
    "credit_risk_df = pd.read_sql(sql, conn)"
   ]
  },
  {
   "cell_type": "code",
   "execution_count": null,
   "metadata": {},
   "outputs": [],
   "source": [
    "#Visualize the first couple of rows in our dataframe\n",
    "credit_risk_df.head()"
   ]
  },
  {
   "cell_type": "markdown",
   "metadata": {},
   "source": [
    "# Data Cleaning with Pandas"
   ]
  },
  {
   "cell_type": "markdown",
   "metadata": {},
   "source": [
    "As you can see, the German credit dataset is quite unreadable. We will need to map each feature value to its corresponding value as defined in the UCI Machine Learning Repository."
   ]
  },
  {
   "cell_type": "code",
   "execution_count": null,
   "metadata": {},
   "outputs": [],
   "source": [
    "#Ordinal Values have a clear ordering of the variables.\n",
    "original_ordinal_vals = {\n",
    "    \"checkingAccount\": {\"A11\": \"low\", \n",
    "                        \"A12\": \"medium\", \n",
    "                        \"A13\": \"high\", \n",
    "                        \"A14\": \"none\"},\n",
    "    \"creditHistory\": {\"A30\": \"excellent\", \n",
    "                      \"A31\" : \"good\", \n",
    "                      \"A32\": \"okay\", \n",
    "                      \"A33\": 'bad', \n",
    "                      \"A34\": \"very bad\"},\n",
    "    \"savingsAccount\": {\"A61\": \"low\", \n",
    "                       \"A62\": \"medium\", \n",
    "                       \"A63\": \"high\", \n",
    "                       \"A64\": \"very high\", \n",
    "                       \"A65\": \"none\"},\n",
    "    \"employed\": {\"A71\": \"0\", \n",
    "                 \"A72\": \"< 1\", \n",
    "                 \"A73\": \"1-4\", \n",
    "                 \"A74\": \"4-7\", \n",
    "                 \"A75\": \">= 7\"},\n",
    "     \"job\": {\"A171\": \"unemployed/unskilled/non-resident\", \n",
    "             \"A172\": \"unskilled/resident\", \n",
    "             \"A173\": \"employed/skilled\", \n",
    "             \"A174\": \"employed/highly-skilled\"}\n",
    "}\n",
    "\n",
    "#Categorical Values do not have an ordering.\n",
    "original_categorical_vals = {\n",
    "    \"purpose\": {\"A40\":\"car\", \n",
    "                \"A41\": \"car\", \n",
    "                \"A42\":\"furniture\", \n",
    "                \"A43\": \"television\",                                        \n",
    "                \"A44\": \"domestic appliances\", \n",
    "                \"A45\": \"repairs\", \n",
    "                \"A46\": \"education/business\",\n",
    "                \"A48\": \"education/business\", \n",
    "                \"A49\": \"education/business\", \n",
    "                \"A410\": \"other\"},\n",
    "    \"gender\": {\"A91\": \"male\", \n",
    "               \"A92\": \"female\", \n",
    "               \"A93\": \"male\", \n",
    "               \"A94\": \"male\", \n",
    "               \"A95\": \"female\"},\n",
    "    \"otherDebtors\": {\"A101\": \"none\", \n",
    "                     \"A102\": \"co-applicant\", \n",
    "                     \"A103\": \"guarantor\"},\n",
    "    \"installmentPlans\": {\"A141\": \"yes\", \n",
    "                         \"A142\": \"yes\", \n",
    "                         \"A143\": \"no\"},\n",
    "    \"housing\": {\"A151\": \"rent\", \n",
    "                \"A152\": \"own\", \n",
    "                \"A153\": \"free\"}\n",
    "}\n",
    "\n",
    "#Transform risk value 1 and 2 respectively to 0 and 1\n",
    "credit_risk_df['risk'] = credit_risk_df['risk'].map({1:0,2:1})\n",
    "\n",
    "#Delete features that will not make a difference to predicting credit risk.\n",
    "del credit_risk_df['property']\n",
    "del credit_risk_df['telephone']\n",
    "del credit_risk_df['foreign']\n",
    "\n",
    "credit_risk_df.replace(original_ordinal_vals, inplace=True)\n",
    "credit_risk_df.replace(original_categorical_vals, inplace=True)\n",
    "\n",
    "#Convert from DM to USD.\n",
    "credit_risk_df['amount'] = credit_risk_df['amount'].map(lambda x : ((x * 58)/100))"
   ]
  },
  {
   "cell_type": "markdown",
   "metadata": {},
   "source": [
    "# Data Analysis with Pandas"
   ]
  },
  {
   "cell_type": "markdown",
   "metadata": {},
   "source": [
    "Now that we've cleaned our data, with pandas dataframe, we can also do a variety of analysis on the mainframe data."
   ]
  },
  {
   "cell_type": "code",
   "execution_count": null,
   "metadata": {},
   "outputs": [],
   "source": [
    "#Visualize the first couple of rows in our dataframe\n",
    "credit_risk_df.head()"
   ]
  },
  {
   "cell_type": "code",
   "execution_count": null,
   "metadata": {},
   "outputs": [],
   "source": [
    "#Look at the datatypes within our dataframe\n",
    "credit_risk_df.dtypes"
   ]
  },
  {
   "cell_type": "code",
   "execution_count": null,
   "metadata": {},
   "outputs": [],
   "source": [
    "#Calculate the averages of the different feature columns and group by risk\n",
    "#where 0 is good risk and 1 is bad risk.\n",
    "credit_risk_df.groupby('risk').mean()"
   ]
  },
  {
   "cell_type": "code",
   "execution_count": null,
   "metadata": {},
   "outputs": [],
   "source": [
    "#Statistics describing the feature column, age\n",
    "credit_risk_df['age'].describe()"
   ]
  },
  {
   "cell_type": "markdown",
   "metadata": {},
   "source": [
    "# Visualization with Matplotlib\n",
    "\n",
    "We will use matplotlib to create a plot analysing data trends. A visualization that might be useful is seeing what each gender is requesting money for. In this particular dataset, the different requests or purposes include buying a car, furniture, television, repairs, domestic appliances, education/business related incentive, and \"other\"."
   ]
  },
  {
   "cell_type": "code",
   "execution_count": null,
   "metadata": {
    "collapsed": true
   },
   "outputs": [],
   "source": [
    "import matplotlib.pyplot as plt\n",
    "#Anything with a % is called a magic command. Below, we are specifying that\n",
    "#we want matplotlib plots to be outputted within the notebook\n",
    "%matplotlib inline"
   ]
  },
  {
   "cell_type": "code",
   "execution_count": null,
   "metadata": {},
   "outputs": [],
   "source": [
    "gender_vs_purpose = credit_risk_df.groupby(['purpose', 'gender']).size().unstack()\n",
    "gender_vs_purpose.plot(kind='line', marker='o', figsize=(17,10))\n",
    "plt.title(\"What are people borrowing for?\")\n",
    "plt.ylabel(\"# of People\")\n",
    "plt.xlabel(\"Purpose for borrowing credit\")"
   ]
  },
  {
   "cell_type": "markdown",
   "metadata": {},
   "source": [
    "In this dataset, for both males and females, the #1 reason for borrowing is to buy a car. And it seems in all cases besides for domestic appliances, more men are requesting for a loan."
   ]
  },
  {
   "cell_type": "markdown",
   "metadata": {},
   "source": [
    "These different visuals help to understand our data better. It is hard to pick out with the human eye all these correlations. Pandas and matplotlib make it incredibly easy to find these underlying patterns."
   ]
  }
 ],
 "metadata": {
  "kernelspec": {
   "display_name": "Python 3",
   "language": "python",
   "name": "python3"
  },
  "language_info": {
   "codemirror_mode": {
    "name": "ipython",
    "version": 3
   },
   "file_extension": ".py",
   "mimetype": "text/x-python",
   "name": "python",
   "nbconvert_exporter": "python",
   "pygments_lexer": "ipython3",
   "version": "3.6.1"
  }
 },
 "nbformat": 4,
 "nbformat_minor": 2
}
