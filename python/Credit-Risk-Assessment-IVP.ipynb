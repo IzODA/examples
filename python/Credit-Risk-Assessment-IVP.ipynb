{
 "cells": [
  {
   "cell_type": "markdown",
   "metadata": {},
   "source": [
    "# Credit Risk Assessment\n",
    "\n",
    "A credit risk is the risk of default on a debt that may arise from a borrower failing to make required payments. Someone who defaults on their loans can mean a lot of money lost for a financial institution and at the same time, false negatives (i.e. declining a loan when they are capable of repaying the money) can mean money lost from interest. In the following, we perform some exploratory analysis using the German Credit Data stored in the UCI Machine Learning Repository [here](https://archive.ics.uci.edu/ml/datasets/Statlog+(German+Credit+Data)"
   ]
  },
  {
   "cell_type": "markdown",
   "metadata": {},
   "source": [
    "## Retrieve Data Source from ODL"
   ]
  },
  {
   "cell_type": "markdown",
   "metadata": {},
   "source": [
    "The dsdbc module is delivered with the z/OS IzODA Anaconda distribution. It enables Python applications to access the z/OS IzODA Mainframe Data Service. The Data Service component, Optimized Data Layer (ODL, previously known as MDS) provides optimized, virtualized, and parallelized access to both IBM Z data sources and other off-platform data sources. Refer to the [IBM Knowledge Center](https://www.ibm.com/support/knowledgecenter/) for product documentation (search: \"Open Data Analytics\"). After the connection is established, we will use this connection to retrieve the data and store it in a dataframe using the python library, [pandas](http://pandas.pydata.org/)."
   ]
  },
  {
   "cell_type": "code",
   "execution_count": null,
   "metadata": {
    "collapsed": true
   },
   "outputs": [],
   "source": [
    "import dsdbc\n",
    "import pandas as pd\n",
    "\n",
    "#Remove font warnings.\n",
    "import warnings\n",
    "warnings.filterwarnings(\"ignore\")\n",
    "warnings.simplefilter(\"ignore\", category=PendingDeprecationWarning)\n",
    "\n",
    "#Get ODL database connection. For ssid, please enter in the subsystem ID of\n",
    "#the local data service server. If this is not specified, the name will be\n",
    "#selected based on the server group, 'sgrp', or if not provided, the first\n",
    "#subsystem with a Data Service will be used. For more information please\n",
    "#run help(dsdbc)\n",
    "ssid = \"<SUBSYSTEM_ID_OF_LOCAL_DATA_SERVICE_SERVER>\"\n",
    "conn = dsdbc.connect(SSID=ssid)\n",
    "\n",
    "#Query Execution\n",
    "sql = ('(select checkingAccount as \"checkingAccount\",'\n",
    "        'duration as \"duration\",'\n",
    "        'creditHistory as \"creditHistory\",'\n",
    "        'purpose as \"purpose\",'\n",
    "        'amount as \"amount\",'\n",
    "        'savingsAccount as \"savingsAccount\",'\n",
    "        'gender as \"gender\",'\n",
    "        'age as \"age\",'\n",
    "        'dependents as \"dependents\",'\n",
    "        'risk as \"risk\" from credit_data)')\n",
    "credit_risk_df = pd.read_sql(sql, conn)"
   ]
  },
  {
   "cell_type": "markdown",
   "metadata": {},
   "source": [
    "# Data Analysis with Pandas"
   ]
  },
  {
   "cell_type": "markdown",
   "metadata": {},
   "source": [
    "With pandas dataframe, we can do a variety of analysis on the mainframe data."
   ]
  },
  {
   "cell_type": "code",
   "execution_count": null,
   "metadata": {},
   "outputs": [],
   "source": [
    "#Visualize the first couple of rows in our dataframe\n",
    "credit_risk_df.head()"
   ]
  },
  {
   "cell_type": "code",
   "execution_count": null,
   "metadata": {},
   "outputs": [],
   "source": [
    "#Look at the datatypes within our dataframe\n",
    "credit_risk_df.dtypes"
   ]
  },
  {
   "cell_type": "code",
   "execution_count": null,
   "metadata": {},
   "outputs": [],
   "source": [
    "#Calculate the averages of the different feature columns and group by risk\n",
    "#where 0 is good risk and 1 is bad risk.\n",
    "credit_risk_df.groupby('risk').mean()"
   ]
  },
  {
   "cell_type": "code",
   "execution_count": null,
   "metadata": {},
   "outputs": [],
   "source": [
    "#Statistics describing the feature column, age\n",
    "credit_risk_df['age'].describe()"
   ]
  },
  {
   "cell_type": "markdown",
   "metadata": {},
   "source": [
    "# Visualization with Matplotlib\n",
    "\n",
    "We will use matplotlib to create a plot analysing data trends. A visualization that might be useful is seeing what each gender is requesting money for. In this particular dataset, the different requests or purposes include buying a car, furniture, television, repairs, domestic appliances, education/business related incentive, and \"other\"."
   ]
  },
  {
   "cell_type": "code",
   "execution_count": null,
   "metadata": {
    "collapsed": true
   },
   "outputs": [],
   "source": [
    "import matplotlib.pyplot as plt\n",
    "#Anything with a % is called a magic command. Below, we are specifying that\n",
    "#we want matplotlib plots to be outputted within the notebook\n",
    "%matplotlib inline"
   ]
  },
  {
   "cell_type": "code",
   "execution_count": null,
   "metadata": {},
   "outputs": [],
   "source": [
    "gender_vs_purpose = credit_risk_df.groupby(['purpose', 'gender']).size().unstack()\n",
    "gender_vs_purpose.plot(kind='line', marker='o', figsize=(17,10))\n",
    "plt.title(\"What are people borrowing for?\")\n",
    "plt.ylabel(\"# of People\")\n",
    "plt.xlabel(\"Purpose for borrowing credit\")"
   ]
  },
  {
   "cell_type": "markdown",
   "metadata": {},
   "source": [
    "In this dataset, for both males and females, the #1 reason for borrowing is to buy a car. And it seems in all cases besides for domestic appliances, more men are requesting for a loan."
   ]
  },
  {
   "cell_type": "markdown",
   "metadata": {},
   "source": [
    "These different visuals help to understand our data better. It is hard to pick out with the human eye all these correlations. Pandas and matplotlib make it incredibly easy to find these underlying patterns."
   ]
  }
 ],
 "metadata": {
  "kernelspec": {
   "display_name": "Python 3",
   "language": "python",
   "name": "python3"
  },
  "language_info": {
   "codemirror_mode": {
    "name": "ipython",
    "version": 3
   },
   "file_extension": ".py",
   "mimetype": "text/x-python",
   "name": "python",
   "nbconvert_exporter": "python",
   "pygments_lexer": "ipython3",
   "version": "3.6.1"
  }
 },
 "nbformat": 4,
 "nbformat_minor": 2
}
