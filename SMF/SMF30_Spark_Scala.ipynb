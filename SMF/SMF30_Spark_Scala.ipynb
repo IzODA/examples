{
 "cells": [
  {
   "cell_type": "markdown",
   "metadata": {
    "deletable": true,
    "editable": true
   },
   "source": [
    "<h1>A Hands-On Lab for the System Programmer</h1>\n",
    "<ul>\n",
    "    <li>You need to catch a run-away job that is generating SMF records and filling our logstream!</li>\n",
    "    <li>SYSLOG isn’t helpful, we need to do some ad-hoc processing of SMF30 to figure this out.</li>\n",
    "</ul>\n",
    "<h5>Based off of <a href=\"http://mainframeinsights.com/dunnit-spark-can-help/\">Who dunnit... Spark, can you help?!</a></h5>"
   ]
  },
  {
   "cell_type": "markdown",
   "metadata": {
    "deletable": true,
    "editable": true
   },
   "source": [
    "We'll obtain our system's IP Address and our user password four our JDBC call"
   ]
  },
  {
   "cell_type": "code",
   "execution_count": null,
   "metadata": {
    "collapsed": false,
    "deletable": true,
    "editable": true
   },
   "outputs": [],
   "source": [
    "/*************************************************************************************/\n",
    "/* Read .system and .id_pass to obtain the system's IP address and password          */\n",
    "/*************************************************************************************/\n",
    "import scala.io.Source._\n",
    "val zos_system = fromFile(\"/u/nmarion/data/.system\", \"IBM-1047\").getLines.mkString\n",
    "val pass = fromFile(\"/u/nmarion/data/.id_pass\", \"IBM-1047\").getLines.mkString"
   ]
  },
  {
   "cell_type": "markdown",
   "metadata": {
    "deletable": true,
    "editable": true
   },
   "source": [
    "Using Rocket's MDS and JDBC driver, we can read our SMF dataset and load it into a dataframe."
   ]
  },
  {
   "cell_type": "code",
   "execution_count": null,
   "metadata": {
    "collapsed": false,
    "deletable": true,
    "editable": true
   },
   "outputs": [],
   "source": [
    "/*************************************************************************************/\n",
    "/* Create JDBC call with our credentials and specifying the virtual SMF table along  */\n",
    "/* with our dataset we'd like to map over.                                           */ \n",
    "/*                                                                                   */\n",
    "/* We have chosen the Identification Section of the SMF30 Record for our mapping     */\n",
    "/*************************************************************************************/\n",
    "\n",
    "val dfReader = spark.read.format(\"jdbc\").option(\"driver\", \"com.rs.jdbc.dv.DvDriver\")\n",
    "dfReader.option(\"url\", \"jdbc:rs:dv://\" + zos_system + \";DBTY=DVS;user=nmarion;password=\" + pass)\n",
    "dfReader.option(\"dbtable\", \"SMF_03000_SMF30ID__NMARION_AQHO_SMF30_D17055_T111328\")\n",
    "val df = dfReader.load()"
   ]
  },
  {
   "cell_type": "markdown",
   "metadata": {
    "deletable": true,
    "editable": true
   },
   "source": [
    "Lets look at how many SMF records we have in this dataset."
   ]
  },
  {
   "cell_type": "code",
   "execution_count": null,
   "metadata": {
    "collapsed": false,
    "deletable": true,
    "editable": true
   },
   "outputs": [],
   "source": [
    "/*************************************************************************************/\n",
    "/* Count the number of entries in dataframe. Expecting 1167                          */\n",
    "/*************************************************************************************/\n",
    "df.count()"
   ]
  },
  {
   "cell_type": "markdown",
   "metadata": {
    "deletable": true,
    "editable": true
   },
   "source": [
    "Lets limit the amount of records to 250 and save our dataframe into a json file for later."
   ]
  },
  {
   "cell_type": "code",
   "execution_count": null,
   "metadata": {
    "collapsed": false,
    "deletable": true,
    "editable": true
   },
   "outputs": [],
   "source": [
    "/*************************************************************************************/\n",
    "/* Later in the lab, we'll attempt to read a json file. Saving for later. If file    */\n",
    "/* exists, overwrite it.                                                             */\n",
    "/*************************************************************************************/\n",
    "df.write.mode(\"overwrite\").json(\"/u/nmarion/data/SMF30.json\")"
   ]
  },
  {
   "cell_type": "markdown",
   "metadata": {
    "deletable": true,
    "editable": true
   },
   "source": [
    "Take a look at our records we notice that there are a lot of columns."
   ]
  },
  {
   "cell_type": "code",
   "execution_count": null,
   "metadata": {
    "collapsed": false,
    "deletable": true,
    "editable": true
   },
   "outputs": [],
   "source": [
    "/*************************************************************************************/\n",
    "/* The show() method displays the contents of the DataFrame. By default, only the    */\n",
    "/* first 20 rows will be displayed. You may pass an integer to display more or less  */\n",
    "/* rows.                                                                             */\n",
    "/*                                                                                   */\n",
    "/* In this case, we're displaying all the columns in the Identification Section of   */\n",
    "/* SMF30 Records, which is too much to display on a single screen.                   */\n",
    "/*************************************************************************************/\n",
    "df.show()"
   ]
  },
  {
   "cell_type": "markdown",
   "metadata": {
    "deletable": true,
    "editable": true
   },
   "source": [
    "Lets take a look at our schema which will describe our columns and we can find what we're interesting in."
   ]
  },
  {
   "cell_type": "code",
   "execution_count": null,
   "metadata": {
    "collapsed": false,
    "deletable": true,
    "editable": true
   },
   "outputs": [],
   "source": [
    "/*************************************************************************************/\n",
    "/* The printSchema() method shows us the headers of the DataFrame in a clean format. */\n",
    "/* It will show the header, the data type, and if it is nullable or not.             */\n",
    "/*                                                                                   */\n",
    "/* For this lab, we're interesting in the Job Name (SMF30JBN) and RACF User ID       */\n",
    "/* (SMF30RUD).                                                                       */\n",
    "/*************************************************************************************/\n",
    "df.printSchema()"
   ]
  },
  {
   "cell_type": "markdown",
   "metadata": {
    "deletable": true,
    "editable": true
   },
   "source": [
    "We can take a look at the SMF30JBN, SMF 30 Jobname, and the SMF30RUD, SMF 30 User ID and display them."
   ]
  },
  {
   "cell_type": "code",
   "execution_count": null,
   "metadata": {
    "collapsed": false,
    "deletable": true,
    "editable": true
   },
   "outputs": [],
   "source": [
    "/*************************************************************************************/\n",
    "/* The select() method allows you to select specific columns in the DataFrame.       */\n",
    "/*                                                                                   */\n",
    "/* Here we've selected the Job Name (SMF30JBN) and RACF User ID (SMF30RUD) and will  */\n",
    "/* only show the information we're interesting in.                                   */\n",
    "/*************************************************************************************/\n",
    "df.select(\"SMF30JBN\", \"SMF30RUD\").show()"
   ]
  },
  {
   "cell_type": "markdown",
   "metadata": {
    "deletable": true,
    "editable": true
   },
   "source": [
    "This doesn't quite give us an idea of who could be filling up our dataset as we only see the top 20. Lets group the same job names and the same users together and count them."
   ]
  },
  {
   "cell_type": "code",
   "execution_count": null,
   "metadata": {
    "collapsed": false,
    "deletable": true,
    "editable": true
   },
   "outputs": [],
   "source": [
    "/*************************************************************************************/\n",
    "/* The groupBy() method allows us to specify a column to group by. Adding the count()*/\n",
    "/* method, we create a new count column associated with each grouping. Below, we     */\n",
    "/* create a jobs and users DataFrame with the counts for each.                       */\n",
    "/*************************************************************************************/\n",
    "val jobs = df.groupBy(\"SMF30JBN\").count()\n",
    "val users = df.groupBy(\"SMF30RUD\").count()"
   ]
  },
  {
   "cell_type": "markdown",
   "metadata": {
    "deletable": true,
    "editable": true
   },
   "source": [
    "Now that we've created our own dataframes with counts, lets display them in desc order and show the top 10. We see that the user SATURN and their jobs are making up the majority of our records."
   ]
  },
  {
   "cell_type": "code",
   "execution_count": null,
   "metadata": {
    "collapsed": false,
    "deletable": true,
    "editable": true
   },
   "outputs": [],
   "source": [
    "/*************************************************************************************/\n",
    "/* The orderBy() method can sort by a given expression. Below we sort our jobs and   */\n",
    "/* users DataFrames in descending order and limit to the top 10.                     */\n",
    "/*************************************************************************************/\n",
    "jobs.orderBy(jobs.col(\"count\").desc).limit(10).show()\n",
    "users.orderBy(users.col(\"count\").desc).limit(10).show()"
   ]
  },
  {
   "cell_type": "markdown",
   "metadata": {
    "deletable": true,
    "editable": true
   },
   "source": [
    "As mentioned previously you can also read json files. Previously we saved the smaller DataFrame. We can repeat our code and should get the same results."
   ]
  },
  {
   "cell_type": "code",
   "execution_count": null,
   "metadata": {
    "collapsed": false,
    "deletable": true,
    "editable": true
   },
   "outputs": [],
   "source": [
    "val jsonDf = spark.read.json(\"/u/nmarion/data/SMF30.json\")\n",
    "val jsonJobs = jsonDf.groupBy(\"SMF30JBN\").count()\n",
    "val jsonUsers = jsonDf.groupBy(\"SMF30RUD\").count()\n",
    "jsonJobs.orderBy(jsonJobs.col(\"count\").desc).limit(10).show()\n",
    "jsonUsers.orderBy(jsonUsers.col(\"count\").desc).limit(10).show()"
   ]
  },
  {
   "cell_type": "code",
   "execution_count": null,
   "metadata": {
    "collapsed": true,
    "deletable": true,
    "editable": true
   },
   "outputs": [],
   "source": []
  }
 ],
 "metadata": {
  "kernelspec": {
   "display_name": "SparkDev - Apache Toree for Apache Spark 2.0.2.1",
   "language": "scala",
   "name": "apache_toree_scala2021"
  },
  "language_info": {
   "name": "scala",
   "version": "2.11.8"
  }
 },
 "nbformat": 4,
 "nbformat_minor": 2
}
