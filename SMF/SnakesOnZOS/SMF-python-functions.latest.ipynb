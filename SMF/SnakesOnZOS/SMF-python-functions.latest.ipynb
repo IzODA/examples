{
 "cells": [
  {
   "cell_type": "code",
   "execution_count": null,
   "metadata": {
    "collapsed": false,
    "deletable": true,
    "editable": true
   },
   "outputs": [],
   "source": [
    "# Version number\n",
    "version=6.0\n",
    "date=\"June 21, 2018\"\n",
    "\n",
    "print()\n",
    "print(\"+----------------------------------+\")\n",
    "print(\"| z/OS SMF record analysis program |\")\n",
    "print(\"| Version\",version,\"-\",date,\"     |\")\n",
    "print(\"+----------------------------------+\")\n",
    "print()"
   ]
  },
  {
   "cell_type": "code",
   "execution_count": null,
   "metadata": {
    "collapsed": true,
    "deletable": true,
    "editable": true
   },
   "outputs": [],
   "source": [
    "# Import packages\n",
    "import pandas as pd\n",
    "import dsdbc"
   ]
  },
  {
   "cell_type": "code",
   "execution_count": null,
   "metadata": {
    "collapsed": false,
    "deletable": true,
    "editable": true
   },
   "outputs": [],
   "source": [
    "#Retrieve credentials to access ODL server\n",
    "def get_credentials():\n",
    "    with open('/u/user/data/user_info.txt') as f:\n",
    "        user = f.readline().rstrip()\n",
    "        password = f.readline().rstrip()\n",
    "    return user, password\n",
    "\n",
    "user, password = get_credentials()"
   ]
  },
  {
   "cell_type": "code",
   "execution_count": null,
   "metadata": {
    "collapsed": true,
    "deletable": true,
    "editable": true
   },
   "outputs": [],
   "source": [
    "#Setup ODL\n",
    "conn = dsdbc.connect(SSID=\"AZKS\", user=user, password=password)\n",
    "cursor = conn.cursor()"
   ]
  },
  {
   "cell_type": "code",
   "execution_count": null,
   "metadata": {
    "collapsed": false,
    "deletable": true,
    "editable": true
   },
   "outputs": [],
   "source": [
    "#User to enter full input dataset name\n",
    "dataset_name = input(\"Enter the input dataset name: \")"
   ]
  },
  {
   "cell_type": "code",
   "execution_count": null,
   "metadata": {
    "collapsed": false,
    "deletable": true,
    "editable": true,
    "scrolled": true
   },
   "outputs": [],
   "source": [
    "# Replace ' . ' in dataset name with ' _ '\n",
    "dataset_name= dataset_name.replace('.', '_')"
   ]
  },
  {
   "cell_type": "code",
   "execution_count": null,
   "metadata": {
    "collapsed": false,
    "deletable": true,
    "editable": true
   },
   "outputs": [],
   "source": [
    "#Load input dataset\n",
    "def get_input():\n",
    "    i = pd.read_sql('SELECT SMF_RTY FROM SMF_FILE__'+dataset_name, conn)\n",
    "    return i\n",
    "\n",
    "print(\"Input SMF dataset name =\",dataset_name)\n",
    "print()"
   ]
  },
  {
   "cell_type": "code",
   "execution_count": null,
   "metadata": {
    "collapsed": true,
    "deletable": true,
    "editable": true
   },
   "outputs": [],
   "source": [
    "#Count and sort the input dataset by record type\n",
    "def sort_input():\n",
    "    si = get_input().groupby('SMF_RTY').size().reset_index(name='COUNT').sort_values('COUNT',ascending=False)\n",
    "    si.rename(columns={'SMF_RTY': 'REC_TYPE'}, inplace=True)\n",
    "    return si"
   ]
  },
  {
   "cell_type": "code",
   "execution_count": null,
   "metadata": {
    "collapsed": false,
    "deletable": true,
    "editable": true
   },
   "outputs": [],
   "source": [
    "#Print top 5 SMF record types\n",
    "print(\"Top 5 SMF record types:\")\n",
    "print(sort_input().head().to_string(index=False))\n",
    "print()"
   ]
  },
  {
   "cell_type": "code",
   "execution_count": null,
   "metadata": {
    "collapsed": false,
    "deletable": true,
    "editable": true
   },
   "outputs": [],
   "source": [
    "#Identify the record type with the highest count\n",
    "t = sort_input().iloc[0]\n",
    "t = str(t[0])\n",
    "print(\"The largest SMF record type =\",t,\"with \" + str(sort_input().iloc[0]['COUNT']) + \" records\")\n",
    "print()\n",
    "if t == '30':\n",
    "    m = 'SMF_0' + t + '00_SMF' + t + 'ID__' + dataset_name\n",
    "    s = pd.read_sql('SELECT SMF' + t + 'JBN, SMF' + t + 'RUD ' 'FROM ' + m, conn)\n",
    "    ji = s.groupby('SMF' + t + 'JBN').size().reset_index(name='COUNT').sort_values('COUNT',ascending=False)\n",
    "    print(\"Sorted by jobname:\")\n",
    "    print(ji.head().to_string(index=False))\n",
    "    print()\n",
    "    ui = s.groupby('SMF' + t + 'RUD').size().reset_index(name='COUNT').sort_values('COUNT',ascending=False)\n",
    "    print(\"Sorted by user ID:\")\n",
    "    print(ui.head().to_string(index=False))\n",
    "    print()\n",
    "    percent_job = round(100*ji.iloc[0]['COUNT']/(len(get_input())-2))\n",
    "    print(\"The number of \" 'SMF' + t + 'JBN' \" entries is \"  + str(percent_job) +  \" percent of the total.\")\n",
    "    percent_user = round(100*ui.iloc[0]['COUNT']/(len(get_input())-2))\n",
    "    print(\"The number of \" 'SMF' + t + 'RUD' \" entries is \"  + str(percent_user) +  \" percent of the total.\")\n",
    "elif t == '80':\n",
    "    m = 'SMF_0' + t + '00__' + dataset_name\n",
    "    s = pd.read_sql('SELECT SMF' + t + 'JBN, SMF' + t + 'USR ' 'FROM ' + m, conn)\n",
    "    ji = s.groupby('SMF' + t + 'JBN').size().reset_index(name='COUNT').sort_values('COUNT',ascending=False)\n",
    "    print(\"Sorted by jobname:\")\n",
    "    print(ji.head().to_string(index=False))\n",
    "    print()\n",
    "    ui = s.groupby('SMF' + t + 'USR').size().reset_index(name='COUNT').sort_values('COUNT',ascending=False)\n",
    "    print(\"Sorted by user ID:\")\n",
    "    print(ui.head().to_string(index=False))\n",
    "    print()\n",
    "    percent_job = round(100*ji.iloc[0]['COUNT']/(len(get_input())-2))\n",
    "    print(\"The number of \" 'SMF' + t + 'JBN' \" entries is \"  + str(percent_job) +  \" percent of the total.\")\n",
    "    percent_user = round(100*ui.iloc[0]['COUNT']/(len(get_input())-2))\n",
    "    print(\"The number of \" 'SMF' + t + 'USR' \" entries is \"  + str(percent_user) +  \" percent of the total.\")\n",
    "elif t == '14':\n",
    "    m = 'SMF_0' + t + '00__' + dataset_name\n",
    "    s = pd.read_sql('SELECT SMF' + t + 'JBN, SMF' + t + 'UID ' 'FROM ' + m, conn)\n",
    "    ji = s.groupby('SMF' + t + 'JBN').size().reset_index(name='COUNT').sort_values('COUNT',ascending=False)\n",
    "    print(\"Sorted by jobname:\")\n",
    "    print(ji.head().to_string(index=False))\n",
    "    print()\n",
    "    ui = s.groupby('SMF' + t + 'UID').size().reset_index(name='COUNT').sort_values('COUNT',ascending=False)\n",
    "    print(\"Sorted by user ID:\")\n",
    "    print(ui.head().to_string(index=False))\n",
    "    print()\n",
    "    percent_job = round(100*ji.iloc[0]['COUNT']/(len(get_input())-2))\n",
    "    print(\"The number of \" 'SMF' + t + 'JBN' \" entries is \"  + str(percent_job) +  \" percent of the total.\")\n",
    "    percent_user = round(100*ui.iloc[0]['COUNT']/(len(get_input())-2))\n",
    "    print(\"The number of \" 'SMF' + t + 'UID' \" entries is \"  + str(percent_user) +  \" percent of the total.\")\n",
    "elif t == '42':\n",
    "    print(\"SMF Record Type \"  + t +  \" - DFSMS Statistics and Configuration\")\n",
    "elif t == '99':\n",
    "    print(\"SMF Record Type \"  + t +  \" - System Resource Monitor\")\n",
    "elif t == '119':\n",
    "    m = 'SMF_' + t + '01__' + dataset_name\n",
    "    s = pd.read_sql('SELECT SMF' + t + 'TI_USERID ' 'FROM ' + m, conn)\n",
    "    ji = s.groupby('SMF' + t + 'TI_USERID').size().reset_index(name='COUNT').sort_values('COUNT',ascending=False)\n",
    "    print(\"Sorted by jobname:\")\n",
    "    print(ji.head().to_string(index=False))\n",
    "    print()\n",
    "    percent_job = round(100*ji.iloc[0]['COUNT']/(len(get_input())-2))\n",
    "    print(\"The number of \" 'SMF' + t + 'TI_USERID' \" entries is \"  + str(percent_job) +  \" percent of the total.\")\n",
    "elif t == '60':\n",
    "    m = 'SMF_0' + t + '00__' + dataset_name\n",
    "    s = pd.read_sql('SELECT SMF' + t + 'JNM, SMF' + t + 'UID ' 'FROM ' + m, conn)\n",
    "    ji = s.groupby('SMF' + t + 'JNM').size().reset_index(name='COUNT').sort_values('COUNT',ascending=False)\n",
    "    print(\"Sorted by jobname:\")\n",
    "    print(ji.head().to_string(index=False))\n",
    "    print()\n",
    "    ui = s.groupby('SMF' + t + 'UID').size().reset_index(name='COUNT').sort_values('COUNT',ascending=False)\n",
    "    print(\"Sorted by user ID:\")\n",
    "    print(ui.head().to_string(index=False))\n",
    "    print()\n",
    "    percent_job = round(100*ji.iloc[0]['COUNT']/(len(get_input())-2))\n",
    "    print(\"The number of \" 'SMF' + t + 'JNM' \" entries is \"  + str(percent_job) +  \" percent of the total.\")\n",
    "    percent_user = round(100*ui.iloc[0]['COUNT']/(len(get_input())-2))\n",
    "    print(\"The number of \" 'SMF' + t + 'UID' \" entries is \"  + str(percent_user) +  \" percent of the total.\")\n",
    "elif t == '252':\n",
    "    print(\"SMF Record Type \"  + t +  \" - NetView FTP\")\n",
    "elif t == '64':\n",
    "    m = 'SMF_0' + t + '00__' + dataset_name\n",
    "    s = pd.read_sql('SELECT SMF' + t + 'JBN, SMF' + t + 'UIf ' 'FROM ' + m, conn)\n",
    "    ji = s.groupby('SMF' + t + 'JBN').size().reset_index(name='COUNT').sort_values('COUNT',ascending=False)\n",
    "    print(\"Sorted by jobname:\")\n",
    "    print(ji.head().to_string(index=False))\n",
    "    print()\n",
    "    ui = s.groupby('SMF' + t + 'UIF').size().reset_index(name='COUNT').sort_values('COUNT',ascending=False)\n",
    "    print(\"Sorted by user ID:\")\n",
    "    print(ui.head().to_string(index=False))\n",
    "    print()\n",
    "    percent_job = round(100*ji.iloc[0]['COUNT']/(len(get_input())-2))\n",
    "    print(\"The number of \" 'SMF' + t + 'JBN' \" entries is \"  + str(percent_job) +  \" percent of the total.\")\n",
    "    percent_user = round(100*ui.iloc[0]['COUNT']/(len(get_input())-2))\n",
    "    print(\"The number of \" 'SMF' + t + 'UIF' \" entries is \"  + str(percent_user) +  \" percent of the total.\")\n",
    "elif t == '74':\n",
    "    print(\"SMF Record Type \"  + t +  \" - RMF Activity\")\n",
    "elif t == '50':\n",
    "    print(\"SMF Record Type \"  + t +  \" - VTAM Tuning Statistics\")\n",
    "elif t == '72':\n",
    "    print(\"SMF Record Type \"  + t +  \" - Workload Activity, Storage Data, and Serialization Delay\")"
   ]
  },
  {
   "cell_type": "code",
   "execution_count": null,
   "metadata": {
    "collapsed": true,
    "deletable": true,
    "editable": true
   },
   "outputs": [],
   "source": []
  }
 ],
 "metadata": {
  "kernelspec": {
   "display_name": "Python 3",
   "language": "python",
   "name": "python3"
  },
  "language_info": {
   "codemirror_mode": {
    "name": "ipython",
    "version": 3
   },
   "file_extension": ".py",
   "mimetype": "text/x-python",
   "name": "python",
   "nbconvert_exporter": "python",
   "pygments_lexer": "ipython3",
   "version": "3.6.1"
  }
 },
 "nbformat": 4,
 "nbformat_minor": 2
}
